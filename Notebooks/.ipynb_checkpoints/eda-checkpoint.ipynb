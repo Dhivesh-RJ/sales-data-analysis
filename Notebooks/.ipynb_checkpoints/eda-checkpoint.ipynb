# Load libraries
import pandas as pd
import matplotlib.pyplot as plt
import seaborn as sns

# Load dataset
df = pd.read_csv('../data/sales_data.csv')

# Preview data
print(df.head())
print(df.info())
print(df.describe())

# Sales by Category
category_sales = df.groupby('Category')['Total Sales'].sum().sort_values(ascending=False)
category_sales.plot(kind='bar', title='Total Sales by Category', color='skyblue')
plt.ylabel('Sales Amount')
plt.tight_layout()
plt.savefig('../images/sales_by_category.png')
plt.show()

# Sales Trend Over Time
df['Date'] = pd.to_datetime(df['Date'])
df.set_index('Date', inplace=True)
monthly_sales = df.resample('M')['Total Sales'].sum()
monthly_sales.plot(title='Monthly Sales Trend', marker='o')
plt.ylabel('Total Sales')
plt.grid(True)
plt.tight_layout()
plt.savefig('../images/monthly_sales_trend.png')
plt.show()
